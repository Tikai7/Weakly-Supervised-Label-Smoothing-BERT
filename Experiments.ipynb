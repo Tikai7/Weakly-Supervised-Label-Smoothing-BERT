{
  "cells": [
    {
      "cell_type": "code",
      "execution_count": 1,
      "metadata": {
        "id": "k4URnx-Z8MVm"
      },
      "outputs": [],
      "source": [
        "%load_ext autoreload\n",
        "%autoreload 2"
      ]
    },
    {
      "cell_type": "code",
      "execution_count": 2,
      "metadata": {
        "colab": {
          "base_uri": "https://localhost:8080/"
        },
        "id": "0kLU14GH8UnJ",
        "outputId": "7eb70881-be99-42a5-8421-52e6f6eb39c5"
      },
      "outputs": [
        {
          "name": "stdout",
          "output_type": "stream",
          "text": [
            "Collecting python-terrier\n",
            "  Cloning https://github.com/terrier-org/pyterrier.git to c:\\users\\halim\\appdata\\local\\temp\\pip-install-4c0e9jch\\python-terrier_7a7b1519212f45a2a7404860bc059f3e\n",
            "  Resolved https://github.com/terrier-org/pyterrier.git to commit a17f9b7ed1782010b4680457874f220b65fa2594\n",
            "  Preparing metadata (setup.py): started\n",
            "  Preparing metadata (setup.py): finished with status 'done'\n",
            "Requirement already satisfied: numpy in c:\\users\\halim\\appdata\\local\\programs\\python\\python310\\lib\\site-packages (from python-terrier) (1.25.2)\n",
            "Requirement already satisfied: pandas in c:\\users\\halim\\appdata\\local\\programs\\python\\python310\\lib\\site-packages (from python-terrier) (2.0.3)\n",
            "Requirement already satisfied: wget in c:\\users\\halim\\appdata\\local\\programs\\python\\python310\\lib\\site-packages (from python-terrier) (3.2)\n",
            "Requirement already satisfied: tqdm in c:\\users\\halim\\appdata\\local\\programs\\python\\python310\\lib\\site-packages (from python-terrier) (4.66.1)\n",
            "Requirement already satisfied: pyjnius>=1.4.2 in c:\\users\\halim\\appdata\\local\\programs\\python\\python310\\lib\\site-packages (from python-terrier) (1.6.1)\n",
            "Requirement already satisfied: matchpy in c:\\users\\halim\\appdata\\local\\programs\\python\\python310\\lib\\site-packages (from python-terrier) (0.5.5)\n",
            "Requirement already satisfied: deprecated in c:\\users\\halim\\appdata\\local\\programs\\python\\python310\\lib\\site-packages (from python-terrier) (1.2.14)\n",
            "Requirement already satisfied: chest in c:\\users\\halim\\appdata\\local\\programs\\python\\python310\\lib\\site-packages (from python-terrier) (0.2.3)\n",
            "Requirement already satisfied: scipy in c:\\users\\halim\\appdata\\local\\programs\\python\\python310\\lib\\site-packages (from python-terrier) (1.11.2)\n",
            "Requirement already satisfied: requests in c:\\users\\halim\\appdata\\local\\programs\\python\\python310\\lib\\site-packages (from python-terrier) (2.31.0)\n",
            "Requirement already satisfied: joblib in c:\\users\\halim\\appdata\\local\\programs\\python\\python310\\lib\\site-packages (from python-terrier) (1.3.2)\n",
            "Requirement already satisfied: nptyping==1.4.4 in c:\\users\\halim\\appdata\\local\\programs\\python\\python310\\lib\\site-packages (from python-terrier) (1.4.4)\n",
            "Requirement already satisfied: more_itertools in c:\\users\\halim\\appdata\\local\\programs\\python\\python310\\lib\\site-packages (from python-terrier) (10.2.0)\n",
            "Requirement already satisfied: ir_datasets>=0.3.2 in c:\\users\\halim\\appdata\\local\\programs\\python\\python310\\lib\\site-packages (from python-terrier) (0.5.6)\n",
            "Requirement already satisfied: jinja2 in c:\\users\\halim\\appdata\\local\\programs\\python\\python310\\lib\\site-packages (from python-terrier) (3.1.2)\n",
            "Requirement already satisfied: statsmodels in c:\\users\\halim\\appdata\\local\\programs\\python\\python310\\lib\\site-packages (from python-terrier) (0.14.1)\n",
            "Requirement already satisfied: ir_measures>=0.3.1 in c:\\users\\halim\\appdata\\local\\programs\\python\\python310\\lib\\site-packages (from python-terrier) (0.3.3)\n",
            "Requirement already satisfied: dill in c:\\users\\halim\\appdata\\local\\programs\\python\\python310\\lib\\site-packages (from python-terrier) (0.3.8)\n",
            "Requirement already satisfied: pytrec_eval_terrier>=0.5.3 in c:\\users\\halim\\appdata\\local\\programs\\python\\python310\\lib\\site-packages (from python-terrier) (0.5.6)\n",
            "Requirement already satisfied: typish>=1.7.0 in c:\\users\\halim\\appdata\\local\\programs\\python\\python310\\lib\\site-packages (from nptyping==1.4.4->python-terrier) (1.9.3)\n",
            "Requirement already satisfied: zlib-state>=0.1.3 in c:\\users\\halim\\appdata\\local\\programs\\python\\python310\\lib\\site-packages (from ir_datasets>=0.3.2->python-terrier) (0.1.6)\n",
            "Requirement already satisfied: ijson>=3.1.3 in c:\\users\\halim\\appdata\\local\\programs\\python\\python310\\lib\\site-packages (from ir_datasets>=0.3.2->python-terrier) (3.2.3)\n",
            "Requirement already satisfied: warc3-wet-clueweb09>=0.2.5 in c:\\users\\halim\\appdata\\local\\programs\\python\\python310\\lib\\site-packages (from ir_datasets>=0.3.2->python-terrier) (0.2.5)\n",
            "Requirement already satisfied: beautifulsoup4>=4.4.1 in c:\\users\\halim\\appdata\\local\\programs\\python\\python310\\lib\\site-packages (from ir_datasets>=0.3.2->python-terrier) (4.12.2)\n",
            "Requirement already satisfied: pyyaml>=5.3.1 in c:\\users\\halim\\appdata\\local\\programs\\python\\python310\\lib\\site-packages (from ir_datasets>=0.3.2->python-terrier) (6.0.1)\n",
            "Requirement already satisfied: unlzw3>=0.2.1 in c:\\users\\halim\\appdata\\local\\programs\\python\\python310\\lib\\site-packages (from ir_datasets>=0.3.2->python-terrier) (0.2.2)\n",
            "Requirement already satisfied: trec-car-tools>=2.5.4 in c:\\users\\halim\\appdata\\local\\programs\\python\\python310\\lib\\site-packages (from ir_datasets>=0.3.2->python-terrier) (2.6)\n",
            "Requirement already satisfied: warc3-wet>=0.2.3 in c:\\users\\halim\\appdata\\local\\programs\\python\\python310\\lib\\site-packages (from ir_datasets>=0.3.2->python-terrier) (0.2.3)\n",
            "Requirement already satisfied: pyautocorpus>=0.1.1 in c:\\users\\halim\\appdata\\local\\programs\\python\\python310\\lib\\site-packages (from ir_datasets>=0.3.2->python-terrier) (0.1.12)\n",
            "Requirement already satisfied: lxml>=4.5.2 in c:\\users\\halim\\appdata\\local\\programs\\python\\python310\\lib\\site-packages (from ir_datasets>=0.3.2->python-terrier) (5.1.0)\n",
            "Requirement already satisfied: lz4>=3.1.10 in c:\\users\\halim\\appdata\\local\\programs\\python\\python310\\lib\\site-packages (from ir_datasets>=0.3.2->python-terrier) (4.3.3)\n",
            "Requirement already satisfied: inscriptis>=2.2.0 in c:\\users\\halim\\appdata\\local\\programs\\python\\python310\\lib\\site-packages (from ir_datasets>=0.3.2->python-terrier) (2.5.0)\n",
            "Requirement already satisfied: cwl-eval>=1.0.10 in c:\\users\\halim\\appdata\\local\\programs\\python\\python310\\lib\\site-packages (from ir_measures>=0.3.1->python-terrier) (1.0.12)\n",
            "Requirement already satisfied: certifi>=2017.4.17 in c:\\users\\halim\\appdata\\local\\programs\\python\\python310\\lib\\site-packages (from requests->python-terrier) (2023.7.22)\n",
            "Requirement already satisfied: idna<4,>=2.5 in c:\\users\\halim\\appdata\\local\\programs\\python\\python310\\lib\\site-packages (from requests->python-terrier) (2.10)\n",
            "Requirement already satisfied: urllib3<3,>=1.21.1 in c:\\users\\halim\\appdata\\local\\programs\\python\\python310\\lib\\site-packages (from requests->python-terrier) (1.26.16)\n",
            "Requirement already satisfied: charset-normalizer<4,>=2 in c:\\users\\halim\\appdata\\local\\programs\\python\\python310\\lib\\site-packages (from requests->python-terrier) (3.2.0)\n",
            "Requirement already satisfied: colorama in c:\\users\\halim\\appdata\\roaming\\python\\python310\\site-packages (from tqdm->python-terrier) (0.4.6)\n",
            "Requirement already satisfied: heapdict in c:\\users\\halim\\appdata\\local\\programs\\python\\python310\\lib\\site-packages (from chest->python-terrier) (1.0.1)\n",
            "Requirement already satisfied: wrapt<2,>=1.10 in c:\\users\\halim\\appdata\\local\\programs\\python\\python310\\lib\\site-packages (from deprecated->python-terrier) (1.15.0)\n",
            "Requirement already satisfied: MarkupSafe>=2.0 in c:\\users\\halim\\appdata\\local\\programs\\python\\python310\\lib\\site-packages (from jinja2->python-terrier) (2.1.3)\n",
            "Requirement already satisfied: multiset<3.0,>=2.0 in c:\\users\\halim\\appdata\\local\\programs\\python\\python310\\lib\\site-packages (from matchpy->python-terrier) (2.1.1)\n",
            "Requirement already satisfied: tzdata>=2022.1 in c:\\users\\halim\\appdata\\local\\programs\\python\\python310\\lib\\site-packages (from pandas->python-terrier) (2023.3)\n",
            "Requirement already satisfied: python-dateutil>=2.8.2 in c:\\users\\halim\\appdata\\roaming\\python\\python310\\site-packages (from pandas->python-terrier) (2.8.2)\n",
            "Requirement already satisfied: pytz>=2020.1 in c:\\users\\halim\\appdata\\local\\programs\\python\\python310\\lib\\site-packages (from pandas->python-terrier) (2023.3)\n",
            "Requirement already satisfied: packaging>=21.3 in c:\\users\\halim\\appdata\\roaming\\python\\python310\\site-packages (from statsmodels->python-terrier) (23.1)\n",
            "Requirement already satisfied: patsy>=0.5.4 in c:\\users\\halim\\appdata\\local\\programs\\python\\python310\\lib\\site-packages (from statsmodels->python-terrier) (0.5.6)\n",
            "Requirement already satisfied: soupsieve>1.2 in c:\\users\\halim\\appdata\\local\\programs\\python\\python310\\lib\\site-packages (from beautifulsoup4>=4.4.1->ir_datasets>=0.3.2->python-terrier) (2.5)\n",
            "Requirement already satisfied: six in c:\\users\\halim\\appdata\\roaming\\python\\python310\\site-packages (from patsy>=0.5.4->statsmodels->python-terrier) (1.16.0)\n",
            "Requirement already satisfied: cbor>=1.0.0 in c:\\users\\halim\\appdata\\local\\programs\\python\\python310\\lib\\site-packages (from trec-car-tools>=2.5.4->ir_datasets>=0.3.2->python-terrier) (1.0.0)\n"
          ]
        },
        {
          "name": "stderr",
          "output_type": "stream",
          "text": [
            "  Running command git clone --filter=blob:none --quiet https://github.com/terrier-org/pyterrier.git 'C:\\Users\\halim\\AppData\\Local\\Temp\\pip-install-4c0e9jch\\python-terrier_7a7b1519212f45a2a7404860bc059f3e'\n",
            "\n",
            "[notice] A new release of pip available: 22.3.1 -> 24.0\n",
            "[notice] To update, run: python.exe -m pip install --upgrade pip\n"
          ]
        }
      ],
      "source": [
        "!pip install --upgrade git+https://github.com/terrier-org/pyterrier.git#egg=python-terrier"
      ]
    },
    {
      "cell_type": "markdown",
      "metadata": {
        "id": "psm5njKS8MVn"
      },
      "source": [
        "## Imports"
      ]
    },
    {
      "cell_type": "code",
      "execution_count": 4,
      "metadata": {
        "id": "laR-M6XR8MVn"
      },
      "outputs": [],
      "source": [
        "import pandas as pd\n",
        "import torch\n",
        "import pyterrier as pt\n",
        "from model.Bert import Bert\n",
        "from model.Train import Trainer\n",
        "from model.Loss import LSmoothing\n",
        "from model.DataManager import DataManager as DM\n",
        "from sklearn.model_selection import train_test_split\n",
        "from torch.utils.data import DataLoader, RandomSampler, SequentialSampler"
      ]
    },
    {
      "cell_type": "code",
      "execution_count": 11,
      "metadata": {
        "colab": {
          "base_uri": "https://localhost:8080/"
        },
        "id": "BUVCdMpg8MVn",
        "outputId": "055a98dd-564f-4427-d1c4-5726f832fb39"
      },
      "outputs": [],
      "source": [
        "import os\n",
        "os.environ[\"JAVA_HOME\"] = \"C:/Program Files/Java/jdk-21\"\n",
        "if not pt.started():\n",
        "  pt.init(boot_packages=[\"com.github.terrierteam:terrier-prf:-SNAPSHOT\"], mem=8000)"
      ]
    },
    {
      "cell_type": "markdown",
      "metadata": {
        "id": "VNJIBfql8MVo"
      },
      "source": [
        "## Variables"
      ]
    },
    {
      "cell_type": "code",
      "execution_count": 12,
      "metadata": {
        "colab": {
          "base_uri": "https://localhost:8080/"
        },
        "id": "BtD8r8D38MVo",
        "outputId": "ee1ac765-003e-4b9a-cec9-b8c20c300b64"
      },
      "outputs": [
        {
          "name": "stdout",
          "output_type": "stream",
          "text": [
            "cuda\n"
          ]
        }
      ],
      "source": [
        "nb_labels = 2\n",
        "epochs = 100\n",
        "learning_rate = 1e-4\n",
        "device = \"cuda\" if torch.cuda.is_available() else \"cpu\"\n",
        "print(device)"
      ]
    },
    {
      "cell_type": "markdown",
      "metadata": {
        "id": "WTZuclps8MVo"
      },
      "source": [
        "## Loading Data"
      ]
    },
    {
      "cell_type": "code",
      "execution_count": 13,
      "metadata": {
        "id": "MFSMUza_XC7O"
      },
      "outputs": [],
      "source": [
        "# !rm -rf cord19-index"
      ]
    },
    {
      "cell_type": "code",
      "execution_count": 14,
      "metadata": {
        "id": "RjSm7uC8rg_F"
      },
      "outputs": [],
      "source": [
        "batch_size = 16"
      ]
    },
    {
      "cell_type": "code",
      "execution_count": 24,
      "metadata": {
        "id": "aM2ZOvjQShzK"
      },
      "outputs": [
        {
          "name": "stderr",
          "output_type": "stream",
          "text": []
        },
        {
          "name": "stdout",
          "output_type": "stream",
          "text": [
            "18:01:10.922 [main] ERROR org.terrier.structures.Index - Cannot create new index: path c:\\Cours-Sorbonne\\S2\\RITAL\\TME_RI\\PROJET\\.\\var\\cord19-index does not exist, or cannot be written to\n"
          ]
        },
        {
          "ename": "JavaException",
          "evalue": "JVM exception occurred: Cannot create new index: path c:\\Cours-Sorbonne\\S2\\RITAL\\TME_RI\\PROJET\\.\\var\\cord19-index does not exist, or cannot be written to java.lang.IllegalArgumentException",
          "output_type": "error",
          "traceback": [
            "\u001b[1;31m---------------------------------------------------------------------------\u001b[0m",
            "\u001b[1;31mJavaException\u001b[0m                             Traceback (most recent call last)",
            "Cell \u001b[1;32mIn[24], line 3\u001b[0m\n\u001b[0;32m      1\u001b[0m dataset \u001b[38;5;241m=\u001b[39m pt\u001b[38;5;241m.\u001b[39mdatasets\u001b[38;5;241m.\u001b[39mget_dataset(\u001b[38;5;124m'\u001b[39m\u001b[38;5;124mirds:cord19/trec-covid\u001b[39m\u001b[38;5;124m'\u001b[39m)\n\u001b[0;32m      2\u001b[0m indexer \u001b[38;5;241m=\u001b[39m pt\u001b[38;5;241m.\u001b[39mindex\u001b[38;5;241m.\u001b[39mIterDictIndexer(\u001b[38;5;124m'\u001b[39m\u001b[38;5;124mcord19-index\u001b[39m\u001b[38;5;124m'\u001b[39m)\n\u001b[1;32m----> 3\u001b[0m indexref \u001b[38;5;241m=\u001b[39m \u001b[43mindexer\u001b[49m\u001b[38;5;241;43m.\u001b[39;49m\u001b[43mindex\u001b[49m\u001b[43m(\u001b[49m\u001b[43mdataset\u001b[49m\u001b[38;5;241;43m.\u001b[39;49m\u001b[43mget_corpus_iter\u001b[49m\u001b[43m(\u001b[49m\u001b[43m)\u001b[49m\u001b[43m,\u001b[49m\u001b[43m \u001b[49m\u001b[43mfields\u001b[49m\u001b[38;5;241;43m=\u001b[39;49m\u001b[43m(\u001b[49m\u001b[38;5;124;43m'\u001b[39;49m\u001b[38;5;124;43mtitle\u001b[39;49m\u001b[38;5;124;43m'\u001b[39;49m\u001b[43m,\u001b[49m\u001b[43m \u001b[49m\u001b[38;5;124;43m'\u001b[39;49m\u001b[38;5;124;43mabstract\u001b[39;49m\u001b[38;5;124;43m'\u001b[39;49m\u001b[43m)\u001b[49m\u001b[43m)\u001b[49m\n\u001b[0;32m      4\u001b[0m index \u001b[38;5;241m=\u001b[39m pt\u001b[38;5;241m.\u001b[39mIndexFactory\u001b[38;5;241m.\u001b[39mof(indexref)\n",
            "File \u001b[1;32mc:\\Users\\halim\\AppData\\Local\\Programs\\Python\\Python310\\lib\\site-packages\\pyterrier\\index.py:959\u001b[0m, in \u001b[0;36m_IterDictIndexer_nofifo.index\u001b[1;34m(self, it, fields, meta, meta_lengths, threads)\u001b[0m\n\u001b[0;32m    957\u001b[0m \u001b[38;5;66;03m# remove once 5.7 is now the minimum version\u001b[39;00m\n\u001b[0;32m    958\u001b[0m \u001b[38;5;28;01mfrom\u001b[39;00m \u001b[38;5;21;01m.\u001b[39;00m \u001b[38;5;28;01mimport\u001b[39;00m check_version\n\u001b[1;32m--> 959\u001b[0m \u001b[43mindexer\u001b[49m\u001b[38;5;241;43m.\u001b[39;49m\u001b[43mindex\u001b[49m\u001b[43m(\u001b[49m\u001b[43mjavaDocCollection\u001b[49m\u001b[43m \u001b[49m\u001b[38;5;28;43;01mif\u001b[39;49;00m\u001b[43m \u001b[49m\u001b[43mcheck_version\u001b[49m\u001b[43m(\u001b[49m\u001b[38;5;124;43m\"\u001b[39;49m\u001b[38;5;124;43m5.7\u001b[39;49m\u001b[38;5;124;43m\"\u001b[39;49m\u001b[43m)\u001b[49m\u001b[43m \u001b[49m\u001b[38;5;28;43;01melse\u001b[39;49;00m\u001b[43m \u001b[49m\u001b[43m[\u001b[49m\u001b[43mjavaDocCollection\u001b[49m\u001b[43m]\u001b[49m\u001b[43m)\u001b[49m\n\u001b[0;32m    960\u001b[0m \u001b[38;5;28;01mglobal\u001b[39;00m lastdoc\n\u001b[0;32m    961\u001b[0m lastdoc \u001b[38;5;241m=\u001b[39m \u001b[38;5;28;01mNone\u001b[39;00m\n",
            "File \u001b[1;32mjnius\\\\jnius_export_class.pxi:1163\u001b[0m, in \u001b[0;36mjnius.JavaMultipleMethod.__call__\u001b[1;34m()\u001b[0m\n",
            "File \u001b[1;32mjnius\\\\jnius_export_class.pxi:877\u001b[0m, in \u001b[0;36mjnius.JavaMethod.__call__\u001b[1;34m()\u001b[0m\n",
            "File \u001b[1;32mjnius\\\\jnius_export_class.pxi:971\u001b[0m, in \u001b[0;36mjnius.JavaMethod.call_method\u001b[1;34m()\u001b[0m\n",
            "File \u001b[1;32mjnius\\\\jnius_utils.pxi:79\u001b[0m, in \u001b[0;36mjnius.check_exception\u001b[1;34m()\u001b[0m\n",
            "\u001b[1;31mJavaException\u001b[0m: JVM exception occurred: Cannot create new index: path c:\\Cours-Sorbonne\\S2\\RITAL\\TME_RI\\PROJET\\.\\var\\cord19-index does not exist, or cannot be written to java.lang.IllegalArgumentException"
          ]
        }
      ],
      "source": [
        "dataset = pt.datasets.get_dataset('irds:cord19/trec-covid')\n",
        "indexer = pt.index.IterDictIndexer('./cord19-index')\n",
        "indexref = indexer.index(dataset.get_corpus_iter(), fields=('title', 'abstract'))\n",
        "index = pt.IndexFactory.of(indexref)"
      ]
    },
    {
      "cell_type": "code",
      "execution_count": null,
      "metadata": {
        "colab": {
          "base_uri": "https://localhost:8080/"
        },
        "id": "VMogH25ZZnJf",
        "outputId": "5ad279fc-9ec8-41fe-f1bd-426a0d4fe6f7"
      },
      "outputs": [
        {
          "name": "stdout",
          "output_type": "stream",
          "text": [
            "(40, 2) (5, 2) (5, 2)\n",
            "(56292, 4) (6417, 4) (6609, 4)\n"
          ]
        }
      ],
      "source": [
        "def filter_qrels(qrels, topics):\n",
        "    return qrels[qrels['qid'].isin(topics['qid'])]\n",
        "\n",
        "topics = dataset.get_topics('title')\n",
        "qrels = dataset.get_qrels()\n",
        "\n",
        "train_topics, test_topics = train_test_split(topics, test_size=0.2, random_state=42)\n",
        "val_topics, test_topics = train_test_split(test_topics, test_size=0.5, random_state=42)\n",
        "\n",
        "train_qrels = filter_qrels(qrels, train_topics)\n",
        "val_qrels = filter_qrels(qrels, val_topics)\n",
        "test_qrels = filter_qrels(qrels, test_topics)\n",
        "\n",
        "print(train_topics.shape, test_topics.shape, val_topics.shape)\n",
        "print(train_qrels.shape, val_qrels.shape, test_qrels.shape)"
      ]
    },
    {
      "cell_type": "code",
      "execution_count": null,
      "metadata": {
        "colab": {
          "base_uri": "https://localhost:8080/"
        },
        "id": "cT6Ok089dlAY",
        "outputId": "4d92c019-ac66-47f7-87e9-27b22a65b568"
      },
      "outputs": [
        {
          "name": "stdout",
          "output_type": "stream",
          "text": [
            "(34828, 3) (4347, 3) (3527, 3)\n"
          ]
        }
      ],
      "source": [
        "def filter_doc_rel(topic,rel):\n",
        "  df = pd.merge(topic, rel, on='qid')\n",
        "  relevant_docs = df[df['label'] == 1]\n",
        "  non_relevant_docs = df[df['label'] == 0]\n",
        "  # Filtrer pour ne garder qu'un seul document pertinent par requête\n",
        "  filtered_relevant_docs = relevant_docs.drop_duplicates(subset='qid', keep='first')\n",
        "  # Combiner les documents filtrés pertinents et non pertinents\n",
        "  final_df = pd.concat([filtered_relevant_docs, non_relevant_docs])\n",
        "  # Réordonner le DataFrame par 'qid' pour la clarté\n",
        "  final_df = final_df.sort_values(by='qid').reset_index(drop=True)\n",
        "  return final_df.drop(columns=[\"qid\",\"iteration\"])\n",
        "\n",
        "train_df = filter_doc_rel(train_topics, train_qrels)\n",
        "test_df = filter_doc_rel(test_topics, test_qrels)\n",
        "val_df = filter_doc_rel(val_topics, val_qrels)\n",
        "\n",
        "print(train_df.shape, test_df.shape, val_df.shape)"
      ]
    },
    {
      "cell_type": "code",
      "execution_count": null,
      "metadata": {
        "id": "0p6m5t4dnYlo"
      },
      "outputs": [],
      "source": [
        "train_inputs, train_masks, train_labels = DM.prepare_data(train_df)\n",
        "val_inputs, val_masks, val_labels = DM.prepare_data(val_df)\n",
        "test_inputs, test_masks, test_labels = DM.prepare_data(test_df)"
      ]
    },
    {
      "cell_type": "code",
      "execution_count": null,
      "metadata": {
        "id": "okcq4aJAp698"
      },
      "outputs": [],
      "source": [
        "train_dataset = DM(train_inputs, train_masks, train_labels)\n",
        "val_dataset = DM(val_inputs, val_masks, val_labels)\n",
        "test_dataset = DM(test_inputs, test_masks, test_labels)\n",
        "\n",
        "train_loader = DataLoader(\n",
        "    train_dataset,\n",
        "    sampler=RandomSampler(train_dataset),\n",
        "    batch_size=batch_size\n",
        ")\n",
        "\n",
        "val_loader = DataLoader(\n",
        "    val_dataset,\n",
        "    sampler=SequentialSampler(val_dataset),\n",
        "    batch_size=batch_size\n",
        ")\n",
        "\n",
        "test_loader = DataLoader(\n",
        "    test_dataset,\n",
        "    sampler=SequentialSampler(test_dataset),\n",
        "    batch_size=batch_size\n",
        ")"
      ]
    },
    {
      "cell_type": "markdown",
      "metadata": {
        "id": "p7jCSSl1q2os"
      },
      "source": [
        "## Training"
      ]
    },
    {
      "cell_type": "code",
      "execution_count": null,
      "metadata": {
        "id": "iX6zkIkSq2YP"
      },
      "outputs": [],
      "source": [
        "epochs = 10\n",
        "learning_rate = 1e-3"
      ]
    },
    {
      "cell_type": "code",
      "execution_count": null,
      "metadata": {
        "colab": {
          "base_uri": "https://localhost:8080/",
          "height": 332
        },
        "id": "XghpWG4BrdnC",
        "outputId": "96304a57-ead3-4c30-e3ec-42e980903de8"
      },
      "outputs": [
        {
          "ename": "TypeError",
          "evalue": "super(type, obj): obj must be an instance or subtype of type",
          "output_type": "error",
          "traceback": [
            "\u001b[0;31m---------------------------------------------------------------------------\u001b[0m",
            "\u001b[0;31mTypeError\u001b[0m                                 Traceback (most recent call last)",
            "\u001b[0;32m<ipython-input-182-6cf7dfb0bb15>\u001b[0m in \u001b[0;36m<cell line: 1>\u001b[0;34m()\u001b[0m\n\u001b[0;32m----> 1\u001b[0;31m \u001b[0mmodel\u001b[0m \u001b[0;34m=\u001b[0m \u001b[0mBert\u001b[0m\u001b[0;34m(\u001b[0m\u001b[0;34m)\u001b[0m\u001b[0;34m\u001b[0m\u001b[0;34m\u001b[0m\u001b[0m\n\u001b[0m\u001b[1;32m      2\u001b[0m \u001b[0mmodel\u001b[0m \u001b[0;34m=\u001b[0m \u001b[0mmodel\u001b[0m\u001b[0;34m.\u001b[0m\u001b[0mto\u001b[0m\u001b[0;34m(\u001b[0m\u001b[0mdevice\u001b[0m\u001b[0;34m)\u001b[0m\u001b[0;34m\u001b[0m\u001b[0;34m\u001b[0m\u001b[0m\n\u001b[1;32m      3\u001b[0m \u001b[0moptimizer\u001b[0m \u001b[0;34m=\u001b[0m \u001b[0mtorch\u001b[0m\u001b[0;34m.\u001b[0m\u001b[0moptim\u001b[0m\u001b[0;34m.\u001b[0m\u001b[0mAdamW\u001b[0m\u001b[0;34m\u001b[0m\u001b[0;34m\u001b[0m\u001b[0m\n\u001b[1;32m      4\u001b[0m \u001b[0mloss\u001b[0m \u001b[0;34m=\u001b[0m \u001b[0mLSmoothing\u001b[0m\u001b[0;34m(\u001b[0m\u001b[0;34m)\u001b[0m\u001b[0;34m\u001b[0m\u001b[0;34m\u001b[0m\u001b[0m\n\u001b[1;32m      5\u001b[0m \u001b[0mtrainer\u001b[0m \u001b[0;34m=\u001b[0m \u001b[0mTrainer\u001b[0m\u001b[0;34m(\u001b[0m\u001b[0;34m)\u001b[0m\u001b[0;34m\u001b[0m\u001b[0;34m\u001b[0m\u001b[0m\n",
            "\u001b[0;32m/content/Bert.py\u001b[0m in \u001b[0;36m__init__\u001b[0;34m(self, model_name, output_size, dropout_rate)\u001b[0m\n\u001b[1;32m      4\u001b[0m \u001b[0;32mclass\u001b[0m \u001b[0mBert\u001b[0m\u001b[0;34m(\u001b[0m\u001b[0mnn\u001b[0m\u001b[0;34m.\u001b[0m\u001b[0mModule\u001b[0m\u001b[0;34m)\u001b[0m\u001b[0;34m:\u001b[0m\u001b[0;34m\u001b[0m\u001b[0;34m\u001b[0m\u001b[0m\n\u001b[1;32m      5\u001b[0m     \u001b[0;32mdef\u001b[0m \u001b[0m__init__\u001b[0m\u001b[0;34m(\u001b[0m\u001b[0mself\u001b[0m\u001b[0;34m,\u001b[0m \u001b[0mmodel_name\u001b[0m\u001b[0;34m=\u001b[0m\u001b[0;34m\"bert-base-uncased\"\u001b[0m\u001b[0;34m,\u001b[0m \u001b[0moutput_size\u001b[0m\u001b[0;34m=\u001b[0m\u001b[0;36m2\u001b[0m\u001b[0;34m,\u001b[0m \u001b[0mdropout_rate\u001b[0m\u001b[0;34m=\u001b[0m\u001b[0;36m0.5\u001b[0m\u001b[0;34m)\u001b[0m \u001b[0;34m->\u001b[0m \u001b[0;32mNone\u001b[0m\u001b[0;34m:\u001b[0m\u001b[0;34m\u001b[0m\u001b[0;34m\u001b[0m\u001b[0m\n\u001b[0;32m----> 6\u001b[0;31m         \u001b[0msuper\u001b[0m\u001b[0;34m(\u001b[0m\u001b[0mBert\u001b[0m\u001b[0;34m,\u001b[0m\u001b[0mself\u001b[0m\u001b[0;34m)\u001b[0m\u001b[0;34m.\u001b[0m\u001b[0m__init__\u001b[0m\u001b[0;34m(\u001b[0m\u001b[0;34m)\u001b[0m\u001b[0;34m\u001b[0m\u001b[0;34m\u001b[0m\u001b[0m\n\u001b[0m\u001b[1;32m      7\u001b[0m         \u001b[0mself\u001b[0m\u001b[0;34m.\u001b[0m\u001b[0mbert\u001b[0m \u001b[0;34m=\u001b[0m \u001b[0mBertModel\u001b[0m\u001b[0;34m.\u001b[0m\u001b[0mfrom_pretrained\u001b[0m\u001b[0;34m(\u001b[0m\u001b[0mmodel_name\u001b[0m\u001b[0;34m)\u001b[0m\u001b[0;34m\u001b[0m\u001b[0;34m\u001b[0m\u001b[0m\n\u001b[1;32m      8\u001b[0m         \u001b[0mself\u001b[0m\u001b[0;34m.\u001b[0m\u001b[0mdropout\u001b[0m \u001b[0;34m=\u001b[0m \u001b[0mnn\u001b[0m\u001b[0;34m.\u001b[0m\u001b[0mDropout\u001b[0m\u001b[0;34m(\u001b[0m\u001b[0mdropout_rate\u001b[0m\u001b[0;34m)\u001b[0m\u001b[0;34m\u001b[0m\u001b[0;34m\u001b[0m\u001b[0m\n",
            "\u001b[0;31mTypeError\u001b[0m: super(type, obj): obj must be an instance or subtype of type"
          ]
        }
      ],
      "source": [
        "model = Bert()\n",
        "model = model.to(device)\n",
        "optimizer = torch.optim.AdamW\n",
        "loss = LSmoothing()\n",
        "trainer = Trainer()\n",
        "history = trainer.set_model(model)\\\n",
        "    .set_loader(train_loader, val_loader, test_loader)\\\n",
        "    .set_loss_fn(loss)\\\n",
        "    .set_optimizer(optimizer)\\\n",
        "    .fit(learning_rate, epochs)"
      ]
    }
  ],
  "metadata": {
    "accelerator": "GPU",
    "colab": {
      "gpuType": "T4",
      "provenance": []
    },
    "kernelspec": {
      "display_name": "Python 3",
      "name": "python3"
    },
    "language_info": {
      "codemirror_mode": {
        "name": "ipython",
        "version": 3
      },
      "file_extension": ".py",
      "mimetype": "text/x-python",
      "name": "python",
      "nbconvert_exporter": "python",
      "pygments_lexer": "ipython3",
      "version": "3.10.10"
    }
  },
  "nbformat": 4,
  "nbformat_minor": 0
}
