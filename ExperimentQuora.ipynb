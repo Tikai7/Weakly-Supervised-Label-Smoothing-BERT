{
 "cells": [
  {
   "cell_type": "code",
   "execution_count": 7,
   "metadata": {},
   "outputs": [
    {
     "name": "stdout",
     "output_type": "stream",
     "text": [
      "The autoreload extension is already loaded. To reload it, use:\n",
      "  %reload_ext autoreload\n"
     ]
    }
   ],
   "source": [
    "%load_ext autoreload\n",
    "%autoreload 2"
   ]
  },
  {
   "cell_type": "markdown",
   "metadata": {},
   "source": [
    "## Imports"
   ]
  },
  {
   "cell_type": "code",
   "execution_count": null,
   "metadata": {},
   "outputs": [],
   "source": [
    "# scp C:/Cours-Sorbonne/M1/S2/RITAL/TME_RI/PROJET/data/quora-question-pairs/train.csv  21318858@ppti-14-302-12:/tempory/M1-DAC-Stage-Tikai7/Github/Weakly-Supervised-Label-Smoothing-BERT/data\n"
   ]
  },
  {
   "cell_type": "code",
   "execution_count": 12,
   "metadata": {},
   "outputs": [],
   "source": [
    "import torch\n",
    "import numpy as np\n",
    "import matplotlib.pyplot as plt\n",
    "from model.Train import Trainer\n",
    "from model.Loss import LSmoothing, WSLSmoothing\n",
    "from torch.utils.data import DataLoader\n",
    "from model.Bert import BertForQuestionPairClassification\n",
    "from model.DataManager import QuoraDataset\n",
    "from transformers import BertTokenizer\n",
    "from model.NegativeSampling import RandomSampling, BM25Sampling"
   ]
  },
  {
   "cell_type": "markdown",
   "metadata": {},
   "source": [
    "## Loading Data"
   ]
  },
  {
   "cell_type": "code",
   "execution_count": 19,
   "metadata": {},
   "outputs": [
    {
     "name": "stdout",
     "output_type": "stream",
     "text": [
      "Train data :  872\n",
      "Val data :  172\n",
      "Test data :  172\n"
     ]
    }
   ],
   "source": [
    "tokenizer = BertTokenizer.from_pretrained('bert-base-uncased')\n",
    "\n",
    "path =\"data/train.csv\"\n",
    "bs = 32\n",
    "bm25_sampling = False\n",
    "\n",
    "data = QuoraDataset.load_data(path, 1000)\n",
    "data['global_docno'] = data.index.astype(str)\n",
    "train_data, val_data, test_data = QuoraDataset.split_data(data)\n",
    "\n",
    "if bm25_sampling : \n",
    "    index_ref_tr = QuoraDataset.index_data(train_data,type_df=\"train_5\")\n",
    "    index_ref_val = QuoraDataset.index_data(val_data,type_df=\"val_5\")\n",
    "    index_ref_test = QuoraDataset.index_data(test_data,type_df=\"test_5\")\n",
    "    train_data = BM25Sampling.sample(index_ref_tr,train_data, k=9).sort_values(by=\"question1\")\n",
    "    val_data = BM25Sampling.sample(index_ref_val,val_data, k=9).sort_values(by=\"question1\")\n",
    "    test_data = BM25Sampling.sample(index_ref_test,test_data, k=9).sort_values(by=\"question1\")\n",
    "else:\n",
    "    train_data = RandomSampling.sample(train_data, k=9).sort_values(by=\"question1\")\n",
    "    val_data = RandomSampling.sample(val_data, k=9).sort_values(by=\"question1\")\n",
    "    test_data = RandomSampling.sample(test_data, k=9).sort_values(by=\"question1\")\n",
    "\n",
    "# val_data = QuoraDataset.remove_overlapping_questions(train_data, val_data)\n",
    "# test_data = QuoraDataset.remove_overlapping_questions(train_data, test_data)\n",
    "# val_data = QuoraDataset.remove_overlapping_questions(train_data, val_data, 'question2')\n",
    "# test_data = QuoraDataset.remove_overlapping_questions(train_data, test_data, 'question2')\n",
    "\n",
    "\n",
    "train_dataset = QuoraDataset(train_data, tokenizer, max_length=128)\n",
    "train_loader = DataLoader(train_dataset, batch_size=bs, shuffle=True)\n",
    "val_dataset = QuoraDataset(val_data, tokenizer, max_length=128)\n",
    "val_loader = DataLoader(val_dataset, batch_size=10, shuffle=False)\n",
    "test_dataset = QuoraDataset(test_data, tokenizer, max_length=128)\n",
    "test_loader = DataLoader(test_dataset, batch_size=10, shuffle=False)"
   ]
  },
  {
   "cell_type": "code",
   "execution_count": 14,
   "metadata": {},
   "outputs": [
    {
     "name": "stdout",
     "output_type": "stream",
     "text": [
      "Training the model on cuda...\n",
      "Training...\n",
      "Validating...\n"
     ]
    },
    {
     "ename": "ZeroDivisionError",
     "evalue": "division by zero",
     "output_type": "error",
     "traceback": [
      "\u001b[0;31m---------------------------------------------------------------------------\u001b[0m",
      "\u001b[0;31mZeroDivisionError\u001b[0m                         Traceback (most recent call last)",
      "Cell \u001b[0;32mIn[14], line 10\u001b[0m\n\u001b[1;32m      8\u001b[0m loss \u001b[38;5;241m=\u001b[39m LSmoothing()\n\u001b[1;32m      9\u001b[0m trainer \u001b[38;5;241m=\u001b[39m Trainer()\n\u001b[0;32m---> 10\u001b[0m history \u001b[38;5;241m=\u001b[39m \u001b[43mtrainer\u001b[49m\u001b[38;5;241;43m.\u001b[39;49m\u001b[43mset_model\u001b[49m\u001b[43m(\u001b[49m\u001b[43mmodel\u001b[49m\u001b[43m)\u001b[49m\u001b[43m\\\u001b[49m\n\u001b[1;32m     11\u001b[0m \u001b[43m    \u001b[49m\u001b[38;5;241;43m.\u001b[39;49m\u001b[43mset_loader\u001b[49m\u001b[43m(\u001b[49m\u001b[43mtrain_loader\u001b[49m\u001b[43m,\u001b[49m\u001b[43m \u001b[49m\u001b[43mval_loader\u001b[49m\u001b[43m,\u001b[49m\u001b[43m \u001b[49m\u001b[38;5;28;43;01mNone\u001b[39;49;00m\u001b[43m)\u001b[49m\u001b[43m\\\u001b[49m\n\u001b[1;32m     12\u001b[0m \u001b[43m    \u001b[49m\u001b[38;5;241;43m.\u001b[39;49m\u001b[43mset_loss_fn\u001b[49m\u001b[43m(\u001b[49m\u001b[43mloss\u001b[49m\u001b[43m)\u001b[49m\u001b[43m\\\u001b[49m\n\u001b[1;32m     13\u001b[0m \u001b[43m    \u001b[49m\u001b[38;5;241;43m.\u001b[39;49m\u001b[43mset_optimizer\u001b[49m\u001b[43m(\u001b[49m\u001b[43moptimizer\u001b[49m\u001b[43m)\u001b[49m\u001b[43m\\\u001b[49m\n\u001b[1;32m     14\u001b[0m \u001b[43m    \u001b[49m\u001b[38;5;241;43m.\u001b[39;49m\u001b[43mfit\u001b[49m\u001b[43m(\u001b[49m\u001b[43mlearning_rate\u001b[49m\u001b[43m,\u001b[49m\u001b[43m \u001b[49m\u001b[43mepochs\u001b[49m\u001b[43m,\u001b[49m\u001b[43m \u001b[49m\u001b[43mCL\u001b[49m\u001b[38;5;241;43m=\u001b[39;49m\u001b[38;5;28;43;01mFalse\u001b[39;49;00m\u001b[43m)\u001b[49m\n\u001b[1;32m     15\u001b[0m trainer\u001b[38;5;241m.\u001b[39msave_model()\n",
      "File \u001b[0;32m/tempory/M1-DAC-Stage-Tikai7/Github/Weakly-Supervised-Label-Smoothing-BERT/model/Train.py:111\u001b[0m, in \u001b[0;36mTrainer.fit\u001b[0;34m(self, learning_rate, epochs, weight_decay, smoothing, CL)\u001b[0m\n\u001b[1;32m    109\u001b[0m \u001b[38;5;28;01mif\u001b[39;00m \u001b[38;5;28mself\u001b[39m\u001b[38;5;241m.\u001b[39mval_loader \u001b[38;5;129;01mis\u001b[39;00m \u001b[38;5;129;01mnot\u001b[39;00m \u001b[38;5;28;01mNone\u001b[39;00m:\n\u001b[1;32m    110\u001b[0m     val_loss_epoch \u001b[38;5;241m=\u001b[39m \u001b[38;5;28mself\u001b[39m\u001b[38;5;241m.\u001b[39mvalidate()\n\u001b[0;32m--> 111\u001b[0m     val_loss\u001b[38;5;241m.\u001b[39mappend(\u001b[43mval_loss_epoch\u001b[49m\u001b[43m \u001b[49m\u001b[38;5;241;43m/\u001b[39;49m\u001b[43m \u001b[49m\u001b[38;5;28;43mlen\u001b[39;49m\u001b[43m(\u001b[49m\u001b[38;5;28;43mself\u001b[39;49m\u001b[38;5;241;43m.\u001b[39;49m\u001b[43mval_loader\u001b[49m\u001b[43m)\u001b[49m)\n\u001b[1;32m    113\u001b[0m train_loss\u001b[38;5;241m.\u001b[39mappend(train_loss_epoch\u001b[38;5;241m/\u001b[39m\u001b[38;5;28mlen\u001b[39m(\u001b[38;5;28mself\u001b[39m\u001b[38;5;241m.\u001b[39mtrain_loader))\n\u001b[1;32m    115\u001b[0m \u001b[38;5;66;03m# for curriculum learning, mettre le smoothing à 0 (two-stage training selon le papier)\u001b[39;00m\n",
      "\u001b[0;31mZeroDivisionError\u001b[0m: division by zero"
     ]
    }
   ],
   "source": [
    "device = \"cuda\" if torch.cuda.is_available() else \"cpu\"\n",
    "epochs = 10\n",
    "learning_rate = 1e-4\n",
    "\n",
    "model = BertForQuestionPairClassification()\n",
    "model = model.to(device)\n",
    "optimizer = torch.optim.AdamW\n",
    "loss = LSmoothing()\n",
    "trainer = Trainer()\n",
    "history = trainer.set_model(model)\\\n",
    "    .set_loader(train_loader, val_loader, None)\\\n",
    "    .set_loss_fn(loss)\\\n",
    "    .set_optimizer(optimizer)\\\n",
    "    .fit(learning_rate, epochs, CL=False)\n",
    "trainer.save_model()"
   ]
  },
  {
   "cell_type": "code",
   "execution_count": null,
   "metadata": {},
   "outputs": [],
   "source": [
    "train_loss = history['training']['loss']\n",
    "val_loss = history['validation']['loss']\n",
    "\n",
    "plt.style.use('ggplot')\n",
    "plt.figure(figsize=(15,10))\n",
    "plt.plot(train_loss, label='train loss')\n",
    "plt.plot(val_loss, label='val loss')\n",
    "plt.xlabel('Epochs')\n",
    "plt.ylabel('Loss')\n",
    "plt.legend()\n",
    "plt.title('Training and Validation Loss')\n",
    "plt.legend()\n",
    "plt.show()"
   ]
  },
  {
   "cell_type": "code",
   "execution_count": null,
   "metadata": {},
   "outputs": [],
   "source": [
    "model = BertForQuestionPairClassification()\n",
    "model = model.to(device)\n",
    "model.load_state_dict(torch.load(\"/kaggle/input/model-wsls/model_wsls.pth\"))\n",
    "\n",
    "def recall_at_k(all_scores, all_targets, K, num_duplicate):\n",
    "    top_k_indices = np.argsort(all_scores)[::-1][:K]\n",
    "    top_k_targets = all_targets[top_k_indices]\n",
    "    recall = np.sum(top_k_targets) / num_duplicate\n",
    "    return recall\n",
    "\n",
    "def evaluate_ranking_model(model, data_loader, K, device):\n",
    "    model.eval()\n",
    "    model.to(device)\n",
    "    recalls = []\n",
    "    with torch.no_grad():\n",
    "        for inputs, labels, ns_scores in data_loader:\n",
    "            inputs = {k: v.to(device) for k, v in inputs.items()}\n",
    "            labels = labels.to(device)\n",
    "            ns_scores = ns_scores.to(device)\n",
    "            outputs = model(**inputs)\n",
    "            scores = torch.softmax(outputs, dim=1)[:, 1]  \n",
    "            scores = scores.cpu().numpy()\n",
    "            targets = labels.cpu().numpy()\n",
    "            num_duplicate = np.sum(targets)  \n",
    "            if num_duplicate == 0:\n",
    "                continue  \n",
    "            recall_k = recall_at_k(scores, targets, K, num_duplicate)\n",
    "            recalls.append(recall_k)\n",
    "\n",
    "    avg_recall = np.mean(recalls)\n",
    "    return {\n",
    "        f\"recall_at_{K}\": avg_recall\n",
    "    }\n",
    "\n",
    "metrics = evaluate_ranking_model(model, test_loader, K=1, device=device)\n",
    "print(\"Ranking Metrics:\", metrics)"
   ]
  }
 ],
 "metadata": {
  "kernelspec": {
   "display_name": "Python 3",
   "language": "python",
   "name": "python3"
  },
  "language_info": {
   "codemirror_mode": {
    "name": "ipython",
    "version": 3
   },
   "file_extension": ".py",
   "mimetype": "text/x-python",
   "name": "python",
   "nbconvert_exporter": "python",
   "pygments_lexer": "ipython3",
   "version": "3.9.6"
  }
 },
 "nbformat": 4,
 "nbformat_minor": 2
}
